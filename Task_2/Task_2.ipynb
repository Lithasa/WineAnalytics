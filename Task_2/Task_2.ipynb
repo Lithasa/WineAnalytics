{
 "cells": [
  {
   "cell_type": "markdown",
   "id": "35ce924a-43bf-4e8d-b016-129e54500c6b",
   "metadata": {
    "panel-layout": {
     "height": 44.09375,
     "visible": true,
     "width": 100
    }
   },
   "source": [
    "### Install and import pandas library "
   ]
  },
  {
   "cell_type": "code",
   "execution_count": 1,
   "id": "60ca6633-cbff-431a-91df-d0789a3dc41c",
   "metadata": {},
   "outputs": [
    {
     "name": "stdout",
     "output_type": "stream",
     "text": [
      "Requirement already satisfied: pandas in c:\\users\\hp\\appdata\\local\\programs\\python\\python313\\lib\\site-packages (2.2.3)\n",
      "Requirement already satisfied: numpy>=1.26.0 in c:\\users\\hp\\appdata\\local\\programs\\python\\python313\\lib\\site-packages (from pandas) (2.2.0)\n",
      "Requirement already satisfied: python-dateutil>=2.8.2 in c:\\users\\hp\\appdata\\roaming\\python\\python313\\site-packages (from pandas) (2.9.0.post0)\n",
      "Requirement already satisfied: pytz>=2020.1 in c:\\users\\hp\\appdata\\local\\programs\\python\\python313\\lib\\site-packages (from pandas) (2024.2)\n",
      "Requirement already satisfied: tzdata>=2022.7 in c:\\users\\hp\\appdata\\local\\programs\\python\\python313\\lib\\site-packages (from pandas) (2024.2)\n",
      "Requirement already satisfied: six>=1.5 in c:\\users\\hp\\appdata\\roaming\\python\\python313\\site-packages (from python-dateutil>=2.8.2->pandas) (1.16.0)\n",
      "Note: you may need to restart the kernel to use updated packages.\n"
     ]
    }
   ],
   "source": [
    "pip install pandas"
   ]
  },
  {
   "cell_type": "code",
   "execution_count": 2,
   "id": "25da4a83-ace3-44ed-84c4-237be661779a",
   "metadata": {},
   "outputs": [],
   "source": [
    "import pandas as pd"
   ]
  },
  {
   "cell_type": "markdown",
   "id": "8dd68cc4-8cc0-4c79-9536-194641679375",
   "metadata": {
    "panel-layout": {
     "height": 50.796875,
     "visible": true,
     "width": 100
    }
   },
   "source": [
    "## 1. Reading and combining data"
   ]
  },
  {
   "cell_type": "markdown",
   "id": "1b44e7d8-f2be-43bf-97ee-ea7bef97e501",
   "metadata": {
    "panel-layout": {
     "height": 44.09375,
     "visible": true,
     "width": 100
    }
   },
   "source": [
    "### Get CSV file paths "
   ]
  },
  {
   "cell_type": "code",
   "execution_count": 3,
   "id": "54166908-2912-4af0-91f4-37f4b1b30648",
   "metadata": {},
   "outputs": [],
   "source": [
    "file_paths = [\n",
    "  'Wine_Stats/Australia_Wine_Stats.csv',\n",
    "  'Wine_Stats/Chile_Wine_Stats.csv', \n",
    "  'Wine_Stats/France_Wine_Stats.csv',\n",
    "  'Wine_Stats/Italy_Wine_Stats.csv',\n",
    "  'Wine_Stats/New Zealand_Wine_Stats.csv',\n",
    "  'Wine_Stats/Portugal_Wine_Stats.csv',\n",
    "  'Wine_Stats/Spain_Wine_Stats.csv',\n",
    "  'Wine_Stats/USA_Wine_Stats.csv'\n",
    "]"
   ]
  },
  {
   "cell_type": "markdown",
   "id": "1072f6f4-2efa-423f-8423-b06bdc7d2431",
   "metadata": {
    "panel-layout": {
     "height": 44.09375,
     "visible": true,
     "width": 100
    }
   },
   "source": [
    "### Load all CSV files into a list of DataFrames and set each column's data types."
   ]
  },
  {
   "cell_type": "code",
   "execution_count": 4,
   "id": "310665a5-505b-4d69-8d93-e8961b44f4b8",
   "metadata": {},
   "outputs": [],
   "source": [
    "df_list = [pd.read_csv(\n",
    "  file, \n",
    "  sep = ',', \n",
    "  header = 0, \n",
    "  index_col = 0, \n",
    "  dtype = {\n",
    "    'Name': str,\n",
    "    'Rating': float,\n",
    "    'Number of ratings': int,\n",
    "    'Price': float,\n",
    "    'Region': str,\n",
    "    'Winery': str,\n",
    "    'Wine style': str,\n",
    "    'Alcohol content': float,\n",
    "    'Grapes': str,\n",
    "    'Food pairings': str,\n",
    "    'Bold': float,\n",
    "    'Tanin': float,\n",
    "    'Sweet': float,\n",
    "    'Acidic': float\n",
    "  }) for file in file_paths]"
   ]
  },
  {
   "cell_type": "markdown",
   "id": "33ce4d01-663f-4ba7-91ec-a2f9ae918b7a",
   "metadata": {
    "panel-layout": {
     "height": 45.09375,
     "visible": true,
     "width": 100
    }
   },
   "source": [
    "### Concatenate all files into a one `wine_df` DataFrame"
   ]
  },
  {
   "cell_type": "code",
   "execution_count": 5,
   "id": "6fd254a5-034d-4bd6-99a6-d4e2ac81155f",
   "metadata": {},
   "outputs": [],
   "source": [
    "wine_df = pd.concat(df_list, ignore_index=True)"
   ]
  },
  {
   "cell_type": "markdown",
   "id": "024214a3-7f4a-43dd-bb61-298d2f542750",
   "metadata": {
    "panel-layout": {
     "height": 50.796875,
     "visible": true,
     "width": 100
    }
   },
   "source": [
    "## 2. Initial data exploration and cleaning "
   ]
  },
  {
   "cell_type": "markdown",
   "id": "42e7e5ef-1875-46c3-b93b-3c6194644bf3",
   "metadata": {
    "panel-layout": {
     "height": 45.09375,
     "visible": true,
     "width": 100
    }
   },
   "source": [
    "### Remove duplicate records from the `wine_df`"
   ]
  },
  {
   "cell_type": "code",
   "execution_count": 6,
   "id": "6953ed36-ec9d-4a25-9896-1d1e7e4261c7",
   "metadata": {},
   "outputs": [],
   "source": [
    "wine_df = wine_df.drop_duplicates()"
   ]
  },
  {
   "cell_type": "markdown",
   "id": "8aab8432-639e-4ebd-a515-6a30ede12324",
   "metadata": {
    "panel-layout": {
     "height": 44.09375,
     "visible": true,
     "width": 100
    }
   },
   "source": [
    "### Remove records with null values in the 'Name' column"
   ]
  },
  {
   "cell_type": "code",
   "execution_count": 7,
   "id": "0c52c62a-4c6b-4a6d-aa16-98d6aadb2e8d",
   "metadata": {},
   "outputs": [],
   "source": [
    "wine_df = wine_df[wine_df['Name'].notnull()]"
   ]
  },
  {
   "cell_type": "markdown",
   "id": "39352fc9-6420-41da-8e1d-c44cb6425db9",
   "metadata": {
    "panel-layout": {
     "height": 50.796875,
     "visible": true,
     "width": 100
    }
   },
   "source": [
    "## 3. Handle outliers and missing values "
   ]
  },
  {
   "attachments": {
    "30877ab0-f6fa-41a6-8229-85d24667d127.jpg": {
     "image/jpeg": "[encoded data removed]"
    }
   },
   "cell_type": "markdown",
   "id": "a2f6d59f-1dde-45bd-b071-ae400e92fa7d",
   "metadata": {
    "panel-layout": {
     "height": 239.34375,
     "visible": true,
     "width": 100
    }
   },
   "source": [
    "### Remove outliers\n",
    "We used the IQR(Interquartile Range) method to identify outliers in the data set. \n",
    "IQR method can be written in two main ways,\n",
    "1. **Remove mild outliers**\n",
    "   <br>Mild outliers are data point that's more extreme than the first quartile minus 1.5 times the interquartile range (IQR) or the third quartile plus 1.5 times the IQR.\n",
    "2. **Remove extreme outliers**\n",
    "   <br>Mild outliers are data point that's more extreme than the first quartile minus 3 times the interquartile range (IQR) or the third quartile plus 3 times the IQR.\n",
    "\n",
    "![mildVSextreme_outliers.jpg](attachment:30877ab0-f6fa-41a6-8229-85d24667d127.jpg)"
   ]
  },
  {
   "cell_type": "code",
   "execution_count": 8,
   "id": "b2fa077d-8c01-4f55-887a-84fd60655dcb",
   "metadata": {},
   "outputs": [],
   "source": [
    "def remove_mild_outliers_iqr(df, column) :\n",
    "  Q1 = df[column].quantile(0.25)\n",
    "  Q3 = df[column].quantile(0.75)\n",
    "  IQR = Q3 - Q1\n",
    "  lower_bound = Q1 - 1.5 * IQR\n",
    "  upper_bound = Q3 + 1.5 * IQR\n",
    "  outlier_removed_df = df[(df[column] >= lower_bound) & (df[column] <= upper_bound)]\n",
    "  return outlier_removed_df\n",
    "\n",
    "def remove_extreme_outliers_iqr(df, column) :\n",
    "  Q1 = df[column].quantile(0.25)\n",
    "  Q3 = df[column].quantile(0.75)\n",
    "  IQR = Q3 - Q1\n",
    "  lower_bound = Q1 - 3 * IQR\n",
    "  upper_bound = Q3 + 3 * IQR\n",
    "  outlier_removed_df = df[(df[column] >= lower_bound) & (df[column] <= upper_bound)]\n",
    "  return outlier_removed_df"
   ]
  },
  {
   "cell_type": "markdown",
   "id": "c08139f9-7d46-4b32-97a8-d33e3262c622",
   "metadata": {
    "panel-layout": {
     "height": 183.125,
     "visible": true,
     "width": 100
    }
   },
   "source": [
    "We decided to remove only extreme outliers. \n",
    "Reasons,\n",
    "- Mild outliers might represent legitimate variations in the data. Removing them can lead to an unrealistic representation of the data distribution.\n",
    "- Mild outliers can indicate true variability and diversity within the data. Retaining them helps in understanding the full range of the data and supports more robust and flexible models.\n",
    "- Removing extreme outliers can improve model performance by reducing noise and potential overfitting. However, retaining mild outliers ensures that the model remains sensitive to less extreme but still significant variations, leading to better generalization on new, unseen data.\n",
    "- Removing too many outliers can lead to underfitting, where the model is too simple to capture the underlying patterns.\n",
    "- Keeping extreme outliers can lead to overfitting, where the model becomes too complex and sensitive to noise."
   ]
  },
  {
   "cell_type": "code",
   "execution_count": 9,
   "id": "8968a540-72d0-43bc-a5f4-b876ab9b8adb",
   "metadata": {},
   "outputs": [],
   "source": [
    "wine_df = remove_extreme_outliers_iqr(wine_df, 'Bold')\n",
    "wine_df = remove_extreme_outliers_iqr(wine_df, 'Sweet')\n",
    "wine_df = remove_extreme_outliers_iqr(wine_df, 'Acidic')"
   ]
  },
  {
   "cell_type": "markdown",
   "id": "71eff5cd-e7ce-49dc-94f6-161bdd31bf39",
   "metadata": {
    "panel-layout": {
     "height": 50.796875,
     "visible": true,
     "width": 100
    }
   },
   "source": [
    "## 4. Adding new columns to the Dataframe"
   ]
  },
  {
   "cell_type": "markdown",
   "id": "7a592229-ad9a-4bf2-b01b-aa14b88539a5",
   "metadata": {
    "panel-layout": {
     "height": 112.5,
     "visible": true,
     "width": 100
    }
   },
   "source": [
    "### 4.1 Add a new 'Country' column to the DataFrame\n",
    "Country name extracted from the 'Region' column using string manioulation methods.\n",
    "<br>Then strip the value to remove any leading and tailing whitespaces."
   ]
  },
  {
   "cell_type": "code",
   "execution_count": 10,
   "id": "7968d3ca-03d5-4bdf-be58-ce3de9c60eee",
   "metadata": {},
   "outputs": [],
   "source": [
    "wine_df['Country'] = wine_df['Region'].str.split('/').str[0]\n",
    "wine_df['Country'] = wine_df['Country'].str.strip()"
   ]
  },
  {
   "cell_type": "markdown",
   "id": "8c8ff358-7979-4084-8da4-10554fc2ddce",
   "metadata": {
    "panel-layout": {
     "height": 78.21875,
     "visible": true,
     "width": 100
    }
   },
   "source": [
    "### 4.2 Add a new 'Country_region' column to the DataFrame\n",
    "Used the same string manipulation method as the above step."
   ]
  },
  {
   "cell_type": "code",
   "execution_count": 11,
   "id": "966bb956-2398-438a-8088-5f06971eb941",
   "metadata": {},
   "outputs": [],
   "source": [
    "wine_df['Country_region'] = wine_df['Region'].str.split('/').str[1]\n",
    "wine_df['Country_region'] = wine_df['Country_region'].str.strip()"
   ]
  },
  {
   "cell_type": "markdown",
   "id": "edc975d6-0033-4969-9abf-43c4f08788d3",
   "metadata": {
    "panel-layout": {
     "height": 97.359375,
     "visible": true,
     "width": 100
    }
   },
   "source": [
    "### 4.3 Create columns for each food pairing items \n",
    "Set value `True` if a particular wine has a food pairing with these new food pairing columns.\n",
    "Unless the value should be `False`."
   ]
  },
  {
   "cell_type": "markdown",
   "id": "1fb88300-2e2c-4e02-b110-dec4be536305",
   "metadata": {
    "panel-layout": {
     "height": 121.703125,
     "visible": true,
     "width": 100
    }
   },
   "source": [
    "The `food_pairing` column is in a string format. <br> \n",
    "First we need to convert that string into an actual list. <br>\n",
    "`cell.strip()` added to make sure this conversion process executes safely without getting to 'ValueErrors'. "
   ]
  },
  {
   "cell_type": "code",
   "execution_count": 12,
   "id": "7512db19-5e80-41c8-9793-66019bd9cc1e",
   "metadata": {},
   "outputs": [],
   "source": [
    "import ast\n",
    "\n",
    "def convert_to_list(cell):\n",
    "    if isinstance(cell, str):\n",
    "        cell = cell.strip()\n",
    "        return ast.literal_eval(cell)\n",
    "    return cell\n",
    "\n",
    "wine_df['Food pairings'] = wine_df['Food pairings'].apply(convert_to_list)"
   ]
  },
  {
   "cell_type": "markdown",
   "id": "15e9789a-8775-4d91-aa17-4168339f13de",
   "metadata": {
    "panel-layout": {
     "height": 87.421875,
     "visible": true,
     "width": 100
    }
   },
   "source": [
    "Get all food pairings into a python `Set`. <br>\n",
    "`Set` type don't allow duplicate values. This feature of Sets makes things easy for us to get only distinct values while we can freely iterate over food pairings in each row."
   ]
  },
  {
   "cell_type": "code",
   "execution_count": 13,
   "id": "e49447cc-0619-4c02-9236-50c194c98b9e",
   "metadata": {
    "panel-layout": {
     "height": 0,
     "visible": true,
     "width": 100
    }
   },
   "outputs": [
    {
     "name": "stdout",
     "output_type": "stream",
     "text": [
      "Food pairing columns count:  21\n"
     ]
    }
   ],
   "source": [
    "all_food_pairings = set()\n",
    "for food_pairing in wine_df['Food pairings']: \n",
    "    all_food_pairings.update(food_pairing)\n",
    "print(\"Food pairing columns count: \", all_food_pairings.__len__())"
   ]
  },
  {
   "cell_type": "markdown",
   "id": "b0394021-2b2b-46c5-a06c-4e3f819ab8a5",
   "metadata": {
    "panel-layout": {
     "height": 52.140625,
     "visible": true,
     "width": 100
    }
   },
   "source": [
    "Create columns for each food pairing from `all_food_pairings` set and set the default value to `False`."
   ]
  },
  {
   "cell_type": "code",
   "execution_count": 14,
   "id": "8f23e258-4585-4062-8e56-18efc1efefbd",
   "metadata": {},
   "outputs": [],
   "source": [
    "for food_pairing in all_food_pairings :\n",
    "  wine_df[food_pairing] = False"
   ]
  },
  {
   "cell_type": "markdown",
   "id": "369d951a-da39-47fd-88d3-0542828463a2",
   "metadata": {
    "panel-layout": {
     "height": 52.140625,
     "visible": true,
     "width": 100
    }
   },
   "source": [
    "Then iterate over each row and set value to `True` if a particular food pairing is available in the `food pairing` column."
   ]
  },
  {
   "cell_type": "code",
   "execution_count": 15,
   "id": "ef7835d2-c24a-4e24-ae4e-f374a0de3ddd",
   "metadata": {},
   "outputs": [],
   "source": [
    "for index, row in wine_df.iterrows():\n",
    "  matching_foods = row['Food pairings']\n",
    "  for food in matching_foods:\n",
    "    wine_df.at[index, food] = True"
   ]
  },
  {
   "cell_type": "markdown",
   "id": "a3214833-7981-445d-958c-69328b6e7b37",
   "metadata": {
    "panel-layout": {
     "height": 270.796875,
     "visible": true,
     "width": 100
    }
   },
   "source": [
    "## 5. Coluumn Removal\n",
    "We decided to remove following columns and reasons are given below,\n",
    "1. **Food pairings** <br>\n",
    "    In subtask 4.3, every possible food pairing is added to separate columns and marked them `True` if a particular wine has a certian food pairing, other non-relavant food pairing columns shows `False`. No need to of keeping this `Food pairing` columns now.\n",
    "2. **Region** <br>\n",
    "    In subtask 4.1, `Country` and the `Country_region` is extracted to separate columns. No need of keeping this `Region` column.\n",
    "3. **Grapes** <br>\n",
    "    Grapes column hugely contains empty cells. Due to this reason it was not in a good condition to use for any data visualization task. No point of keeping this column. "
   ]
  },
  {
   "cell_type": "code",
   "execution_count": 16,
   "id": "d4baf0b6-5fc3-47f1-8acb-9da24c98a84f",
   "metadata": {
    "panel-layout": {
     "height": 0,
     "visible": true,
     "width": 100
    }
   },
   "outputs": [],
   "source": [
    "wine_df.drop(columns=['Food pairings', 'Region', 'Grapes'], inplace=True)"
   ]
  },
  {
   "cell_type": "markdown",
   "id": "2ea3b581",
   "metadata": {},
   "source": [
    "### Additional\n",
    "Extracting year from the name colunm, since we did our analysis based on the year. Which gave us null columns since non vintage wines doesn't have a exact manufacture date."
   ]
  },
  {
   "cell_type": "code",
   "execution_count": 17,
   "id": "51ee11c5",
   "metadata": {},
   "outputs": [],
   "source": [
    "wine_df['Year'] = wine_df['Name'].str.extract(r'(\\b\\d{4}\\b)')\n",
    "wine_df['Year'] = pd.to_numeric(wine_df['Year'], errors='coerce')\n",
    "\n",
    "wine_df['Year'] = wine_df['Year'].fillna('n.v.')"
   ]
  },
  {
   "cell_type": "markdown",
   "id": "413a2784-6dcd-456f-9992-042248dcae82",
   "metadata": {
    "panel-layout": {
     "height": 51.140625,
     "visible": true,
     "width": 100
    }
   },
   "source": [
    "Export this DataFrame to a CSV file to use in later parts of the project."
   ]
  },
  {
   "cell_type": "code",
   "execution_count": 18,
   "id": "e880baed-1df5-4161-894d-10473f2bc1a7",
   "metadata": {
    "panel-layout": {
     "height": 0,
     "visible": true,
     "width": 100
    }
   },
   "outputs": [],
   "source": [
    "wine_df.to_csv('wine.csv', index=False)"
   ]
  }
 ],
 "metadata": {
  "kernelspec": {
   "display_name": "Python 3",
   "language": "python",
   "name": "python3"
  },
  "language_info": {
   "codemirror_mode": {
    "name": "ipython",
    "version": 3
   },
   "file_extension": ".py",
   "mimetype": "text/x-python",
   "name": "python",
   "nbconvert_exporter": "python",
   "pygments_lexer": "ipython3",
   "version": "3.13.0"
  },
  "panel-cell-order": [
   "35ce924a-43bf-4e8d-b016-129e54500c6b",
   "8dd68cc4-8cc0-4c79-9536-194641679375",
   "1b44e7d8-f2be-43bf-97ee-ea7bef97e501",
   "1072f6f4-2efa-423f-8423-b06bdc7d2431",
   "33ce4d01-663f-4ba7-91ec-a2f9ae918b7a",
   "024214a3-7f4a-43dd-bb61-298d2f542750",
   "42e7e5ef-1875-46c3-b93b-3c6194644bf3",
   "8aab8432-639e-4ebd-a515-6a30ede12324",
   "39352fc9-6420-41da-8e1d-c44cb6425db9",
   "a2f6d59f-1dde-45bd-b071-ae400e92fa7d",
   "c08139f9-7d46-4b32-97a8-d33e3262c622",
   "71eff5cd-e7ce-49dc-94f6-161bdd31bf39",
   "7a592229-ad9a-4bf2-b01b-aa14b88539a5",
   "8c8ff358-7979-4084-8da4-10554fc2ddce",
   "edc975d6-0033-4969-9abf-43c4f08788d3",
   "1fb88300-2e2c-4e02-b110-dec4be536305",
   "15e9789a-8775-4d91-aa17-4168339f13de",
   "e49447cc-0619-4c02-9236-50c194c98b9e",
   "b0394021-2b2b-46c5-a06c-4e3f819ab8a5",
   "369d951a-da39-47fd-88d3-0542828463a2",
   "a3214833-7981-445d-958c-69328b6e7b37",
   "d4baf0b6-5fc3-47f1-8acb-9da24c98a84f",
   "413a2784-6dcd-456f-9992-042248dcae82",
   "e880baed-1df5-4161-894d-10473f2bc1a7"
  ]
 },
 "nbformat": 4,
 "nbformat_minor": 5
}
