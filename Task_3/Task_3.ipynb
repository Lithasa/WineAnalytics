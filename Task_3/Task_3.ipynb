{
 "cells": [
  {
   "cell_type": "markdown",
   "id": "78179ebd-a48e-4030-8489-26a678428cc5",
   "metadata": {},
   "source": [
    "## 1. Clean the Data set"
   ]
  },
  {
   "cell_type": "markdown",
   "id": "961c7b36-032f-4c9f-a050-341a2e7e1dbb",
   "metadata": {},
   "source": [
    "Before using any Hugging Face model, We have to clean the data set and make sure it's ready to use with the machine learning model. \n",
    "\n",
    "Desired cleaning methods,\n",
    "1. Drop null rows\n",
    "2. Remove special characters\n",
    "3. Convert to lowercase\n",
    "4. Remove extra white spaces\n",
    "5. Remove stop words\n",
    "6. Stemming\n",
    "7. Lemmatization\n",
    "8. Tokenization\n",
    "9. Spell checking "
   ]
  },
  {
   "cell_type": "markdown",
   "id": "54f1c412-1bdb-4135-bd8b-b95020c7ae7e",
   "metadata": {},
   "source": [
    "### Import pandas to read the `wine_reviews.csv`"
   ]
  },
  {
   "cell_type": "code",
   "execution_count": 31,
   "id": "6c28c36c-973d-4033-a58a-0839ab934604",
   "metadata": {},
   "outputs": [
    {
     "name": "stdout",
     "output_type": "stream",
     "text": [
      "Requirement already satisfied: pandas in c:\\users\\ranga\\appdata\\roaming\\python\\python312\\site-packages (2.2.3)\n",
      "Requirement already satisfied: numpy>=1.26.0 in c:\\users\\ranga\\appdata\\roaming\\python\\python312\\site-packages (from pandas) (2.1.3)\n",
      "Requirement already satisfied: python-dateutil>=2.8.2 in c:\\users\\ranga\\appdata\\roaming\\python\\python312\\site-packages (from pandas) (2.9.0.post0)\n",
      "Requirement already satisfied: pytz>=2020.1 in c:\\users\\ranga\\appdata\\roaming\\python\\python312\\site-packages (from pandas) (2024.2)\n",
      "Requirement already satisfied: tzdata>=2022.7 in c:\\users\\ranga\\appdata\\roaming\\python\\python312\\site-packages (from pandas) (2024.2)\n",
      "Requirement already satisfied: six>=1.5 in c:\\users\\ranga\\appdata\\roaming\\python\\python312\\site-packages (from python-dateutil>=2.8.2->pandas) (1.16.0)\n",
      "Note: you may need to restart the kernel to use updated packages.\n"
     ]
    }
   ],
   "source": [
    "pip install pandas"
   ]
  },
  {
   "cell_type": "code",
   "execution_count": 32,
   "id": "a4599827-1222-4706-89bc-4b2af2aa3738",
   "metadata": {},
   "outputs": [
    {
     "name": "stdout",
     "output_type": "stream",
     "text": [
      "                                              review\n",
      "0  Easily the best Sauvignon Blanc I've had to da...\n",
      "1                    Excellent, Mockingbird Inn?\\r\\n\n",
      "2  Absolutely incredible. One of the best sauvign...\n",
      "3                   Reported in nytimes. Did not try\n",
      "4  Great. Much different than other Sauv Blancs s...\n"
     ]
    }
   ],
   "source": [
    "import pandas as pd\n",
    "\n",
    "wine_reviews = 'wine_reviews.csv'\n",
    "df = pd.read_csv(wine_reviews)\n",
    "print(df.head(5))"
   ]
  },
  {
   "cell_type": "markdown",
   "id": "37d6070d-b96b-40b7-b805-7b83f452c2ac",
   "metadata": {},
   "source": [
    "### 1.1 Drop null values"
   ]
  },
  {
   "cell_type": "code",
   "execution_count": 38,
   "id": "881923ea-8f09-485a-a791-485b6be8773e",
   "metadata": {},
   "outputs": [],
   "source": [
    "df = df.dropna(subset=['review'])"
   ]
  },
  {
   "cell_type": "markdown",
   "id": "460a5e07-bd2d-4169-b58f-7d0c53d94167",
   "metadata": {},
   "source": [
    "### 1.2 Create a method to remove special characters"
   ]
  },
  {
   "cell_type": "code",
   "execution_count": 41,
   "id": "7e3c8b23-92a6-4a97-ac51-847b88369375",
   "metadata": {},
   "outputs": [],
   "source": [
    "import re\n",
    "\n",
    "def remove_special_characters(text):\n",
    "    return re.sub(r'[^a-zA-Z0-9\\s]', '', text)"
   ]
  },
  {
   "cell_type": "markdown",
   "id": "8e342a6e-d246-41b2-bb60-e802bc7672c2",
   "metadata": {},
   "source": [
    "### 1.3 Create a method to convert text into lowercases"
   ]
  },
  {
   "cell_type": "code",
   "execution_count": 48,
   "id": "75963541-c282-41e6-acd6-ef1cb9aaa6ff",
   "metadata": {},
   "outputs": [],
   "source": [
    "def to_lowercase(text):\n",
    "    return text.lower()"
   ]
  },
  {
   "cell_type": "markdown",
   "id": "7c90c7a7-ef85-4db3-ba39-d6189c86471a",
   "metadata": {},
   "source": [
    "### 1.4. Create a method to remove extra white spaces"
   ]
  },
  {
   "cell_type": "code",
   "execution_count": 52,
   "id": "318f9c78-27d3-45a6-a968-a9061bd6dbc1",
   "metadata": {},
   "outputs": [],
   "source": [
    "def remove_extra_whitespace(text):\n",
    "    return re.sub(r'\\s+', ' ', text).strip()"
   ]
  },
  {
   "cell_type": "markdown",
   "id": "a753c5a9-973c-48c8-866f-527ed1055e9f",
   "metadata": {},
   "source": [
    "### 1.5 Create a method to remove stopwords\n",
    "We use NLTK(Natural Language Toolkit) stopwords library to check stopwords and remove them from reviews."
   ]
  },
  {
   "cell_type": "code",
   "execution_count": 60,
   "id": "b00159ff-c72a-4dfa-8c66-04775c5c1ad4",
   "metadata": {},
   "outputs": [
    {
     "name": "stdout",
     "output_type": "stream",
     "text": [
      "Requirement already satisfied: nltk in c:\\users\\ranga\\appdata\\roaming\\python\\python312\\site-packages (3.9.1)\n",
      "Requirement already satisfied: click in c:\\users\\ranga\\appdata\\roaming\\python\\python312\\site-packages (from nltk) (8.1.7)\n",
      "Requirement already satisfied: joblib in c:\\users\\ranga\\appdata\\roaming\\python\\python312\\site-packages (from nltk) (1.4.2)\n",
      "Requirement already satisfied: regex>=2021.8.3 in c:\\users\\ranga\\appdata\\roaming\\python\\python312\\site-packages (from nltk) (2024.11.6)\n",
      "Requirement already satisfied: tqdm in c:\\users\\ranga\\appdata\\roaming\\python\\python312\\site-packages (from nltk) (4.67.1)\n",
      "Requirement already satisfied: colorama in c:\\users\\ranga\\appdata\\roaming\\python\\python312\\site-packages (from click->nltk) (0.4.6)\n",
      "Note: you may need to restart the kernel to use updated packages.\n"
     ]
    }
   ],
   "source": [
    "pip install nltk"
   ]
  },
  {
   "cell_type": "code",
   "execution_count": 64,
   "id": "2bc3141f-c1ab-484c-818d-c1d9b4fcfc4e",
   "metadata": {},
   "outputs": [
    {
     "name": "stderr",
     "output_type": "stream",
     "text": [
      "[nltk_data] Downloading package stopwords to\n",
      "[nltk_data]     C:\\Users\\ranga\\AppData\\Roaming\\nltk_data...\n",
      "[nltk_data]   Package stopwords is already up-to-date!\n"
     ]
    }
   ],
   "source": [
    "import nltk\n",
    "from nltk.corpus import stopwords\n",
    "\n",
    "nltk.download('stopwords')\n",
    "\n",
    "stop_words = set(stopwords.words('english'))\n",
    "\n",
    "def remove_stop_words(words):\n",
    "    return [word for word in words if word not in stop_words]"
   ]
  },
  {
   "attachments": {
    "78bf9f5b-6de0-4e1a-8ee5-d270622cf018.png": {
     "image/png": "[encoded data removed]"
    }
   },
   "cell_type": "markdown",
   "id": "0c5e88fe-977f-4e26-9331-215a2ec89edf",
   "metadata": {},
   "source": [
    "### 1.6 Lemmatization\n",
    "![image.png](attachment:78bf9f5b-6de0-4e1a-8ee5-d270622cf018.png) <br>\n",
    "Lemmatization is the process of reducing words to it's base or dictionary form(lemma). \n",
    "We can use,\n",
    "1. NLTK WordNet lemmatizer or\n",
    "2. spaCy Lemmatizer\n",
    "\n",
    "Since we are doing a text classification task with a small dataset, we prefer to use NLTK WordNet lemmatizer. \n",
    "Reasons, \n",
    "- NLTK Wordnet's context-awareness can be beneficial.\n",
    "- WordNet's lexical database\n",
    "- Easy to use with NLTK library"
   ]
  },
  {
   "cell_type": "code",
   "execution_count": 67,
   "id": "78ffcdab-29b7-4025-94f8-71bfdc267387",
   "metadata": {},
   "outputs": [
    {
     "name": "stderr",
     "output_type": "stream",
     "text": [
      "[nltk_data] Downloading package wordnet to\n",
      "[nltk_data]     C:\\Users\\ranga\\AppData\\Roaming\\nltk_data...\n",
      "[nltk_data]   Package wordnet is already up-to-date!\n",
      "[nltk_data] Downloading package punkt to\n",
      "[nltk_data]     C:\\Users\\ranga\\AppData\\Roaming\\nltk_data...\n",
      "[nltk_data]   Package punkt is already up-to-date!\n",
      "[nltk_data] Downloading package punkt_tab to\n",
      "[nltk_data]     C:\\Users\\ranga\\AppData\\Roaming\\nltk_data...\n",
      "[nltk_data]   Package punkt_tab is already up-to-date!\n"
     ]
    }
   ],
   "source": [
    "from nltk.stem import WordNetLemmatizer\n",
    "\n",
    "nltk.download('wordnet')\n",
    "nltk.download('punkt')\n",
    "nltk.download('punkt_tab')\n",
    "\n",
    "lemmatizer = WordNetLemmatizer()\n",
    "\n",
    "def lemmatize_text(words):\n",
    "  return [lemmatizer.lemmatize(word) for word in words]"
   ]
  },
  {
   "attachments": {
    "d30c42df-6434-4766-9dcc-0d4f241e1d41.png": {
     "image/png": "[encoded data removed]"
    }
   },
   "cell_type": "markdown",
   "id": "4c9c3070-fd50-4cb2-be3b-073abe157fb7",
   "metadata": {},
   "source": [
    "### 1.7 Stemming\n",
    "![image.png](attachment:d30c42df-6434-4766-9dcc-0d4f241e1d41.png) <br>\n",
    "Stemming is the process of reducing words into it's root form by removing rhe suffixes and prefixes.\n",
    "There are several stemming algorithms are available,\n",
    "1. Porter Stemmer <br>\n",
    "    Offers good balance between speed and accuracy. Suitable for general text processing tasks.\n",
    "3. Snowball(Porter 2) Stemmer <br>\n",
    "    An upgraded version of the original porter algorithm. Suitable for accuracy required tasks like linguistic researches.\n",
    "4. Lancaster Stemmer <br>\n",
    "    Highly aggressive stemming algorithm. Sitable for highly redundant data.\n",
    "\n",
    "Since we are doing a text classification task, it's better use `Porter stemmer` over other two algorithms considering the simplicity, efficiency and to achieve a moderate stemming process."
   ]
  },
  {
   "cell_type": "code",
   "execution_count": 70,
   "id": "a92a3f7f-9045-40ee-be2a-e14adbf5edae",
   "metadata": {},
   "outputs": [],
   "source": [
    "from nltk.stem.porter import PorterStemmer\n",
    "stemmer = PorterStemmer()\n",
    "\n",
    "def stem_text(words):\n",
    "    return [stemmer.stem(word) for word in words]"
   ]
  },
  {
   "cell_type": "markdown",
   "id": "47311749-5178-4244-b4cd-ad17ff69812f",
   "metadata": {},
   "source": [
    "### 1.8 Tokenization\n",
    "We use NLTK tokenizer to tokenize the words."
   ]
  },
  {
   "cell_type": "code",
   "execution_count": 73,
   "id": "044de2c5-e4c8-4b0f-ba1e-f2978446a2fc",
   "metadata": {},
   "outputs": [],
   "source": [
    "from nltk.tokenize import word_tokenize\n",
    "\n",
    "def tokenize_text(text):\n",
    "  return word_tokenize(text)"
   ]
  },
  {
   "cell_type": "markdown",
   "id": "b8685306-40bd-4c9b-ad99-3535a53ded0e",
   "metadata": {},
   "source": [
    "### <span style=\"color: red;\">Why skip stemming and spell checking ?</span>\n",
    "1. Lemmatization already normalizes words to their base forms, which can address some issues that spell checking aims to solve, such as different forms of the same word.\n",
    "2. Spell checkers might not handle domain-specific terminology, proper nouns, or technical terms well. <br>\n",
    "    In this dataset, some wine wine realed words, like \"sauvignon\"(Wine bottle name: Merry Edwards Sauvignon Blanc 2023) might be flagged incorrectly, leading to unnecessary corrections.\n",
    "3. When running spell-cheking function on each word in a row and repeat the same process for 500 rows, considerable processing overhead was added.\n",
    "\n",
    "Since our dataset is relatively clean already we decided to skip spell-checking and stemming."
   ]
  },
  {
   "cell_type": "markdown",
   "id": "817d32cd-a30e-4339-a12d-6d943dd1e26f",
   "metadata": {},
   "source": [
    "### Create a `clean_reviews` function to call above data cleanign steps in an order."
   ]
  },
  {
   "cell_type": "code",
   "execution_count": 77,
   "id": "6c63b6c1-a35f-499d-a9fc-1ca8da55fc3b",
   "metadata": {},
   "outputs": [],
   "source": [
    "def clean_reviews(text) :\n",
    "  text = to_lowercase(text)\n",
    "  text = remove_special_characters(text)\n",
    "  text = remove_extra_whitespace(text)\n",
    "  tokens = tokenize_text(text)\n",
    "  tokens = remove_stop_words(tokens)\n",
    "  tokens = lemmatize_text(tokens)\n",
    "  return tokens"
   ]
  },
  {
   "cell_type": "markdown",
   "id": "52899b1d-75f2-4ebb-b1d1-2922265385bb",
   "metadata": {},
   "source": [
    "### Apply the `cleaning_reviews` method to the DataFrame"
   ]
  },
  {
   "cell_type": "code",
   "execution_count": 80,
   "id": "ee262177-c9c7-4944-b57a-ad5b6be96ae6",
   "metadata": {},
   "outputs": [],
   "source": [
    "df['cleaned_reviews'] = df['review'].apply(clean_reviews)"
   ]
  },
  {
   "cell_type": "markdown",
   "id": "9aeb43f7-9311-40e2-b35e-307f0e8688e4",
   "metadata": {},
   "source": [
    "### Remove the `review` column and save the cleaned reviews in a separate CSV file.\n",
    "(not usefull now)"
   ]
  },
  {
   "cell_type": "code",
   "execution_count": 83,
   "id": "eb788b98-8415-4c89-ac58-f49405096129",
   "metadata": {},
   "outputs": [
    {
     "name": "stdout",
     "output_type": "stream",
     "text": [
      "                                     cleaned_reviews\n",
      "0  [easily, best, sauvignon, blanc, ive, date, be...\n",
      "1                      [excellent, mockingbird, inn]\n",
      "2  [absolutely, incredible, one, best, sauvignon,...\n",
      "3                           [reported, nytimes, try]\n",
      "4  [great, much, different, sauv, blanc, since, a...\n",
      "5  [nice, balanced, svb, enough, apple, citrus, l...\n",
      "6  [oak, stone, first, followed, little, peach, f...\n",
      "7  [stunning, delicious, sophisticated, incompara...\n",
      "8  [fantastic, expression, napa, sav, blanc, incr...\n",
      "9  [think, first, cali, sauvignon, blanc, fruity,...\n"
     ]
    }
   ],
   "source": [
    "df = df.drop('review', axis=1)\n",
    "print(df.head(10))\n",
    "df.to_csv('cleaned_reviews.csv', index=False)"
   ]
  }
 ],
 "metadata": {
  "kernelspec": {
   "display_name": "Python 3 (ipykernel)",
   "language": "python",
   "name": "python3"
  },
  "language_info": {
   "codemirror_mode": {
    "name": "ipython",
    "version": 3
   },
   "file_extension": ".py",
   "mimetype": "text/x-python",
   "name": "python",
   "nbconvert_exporter": "python",
   "pygments_lexer": "ipython3",
   "version": "3.12.7"
  }
 },
 "nbformat": 4,
 "nbformat_minor": 5
}
